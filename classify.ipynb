{
 "cells": [
  {
   "cell_type": "code",
   "execution_count": 191,
   "metadata": {},
   "outputs": [],
   "source": [
    "import pandas as pd\n",
    "import numpy as np\n",
    "import matplotlib.pyplot as plt\n",
    "from preprocessing import process_text\n",
    "from nltk import flatten\n"
   ]
  },
  {
   "cell_type": "code",
   "execution_count": 192,
   "metadata": {},
   "outputs": [
    {
     "name": "stdout",
     "output_type": "stream",
     "text": [
      "ham     4825\n",
      "spam     747\n",
      "Name: Label, dtype: int64\n"
     ]
    }
   ],
   "source": [
    "df = pd.read_csv('spam.csv', encoding=\"ISO-8859-1\")\n",
    "df = df.loc[:, ~df.columns.str.contains('^Unnamed')]\n",
    "df.rename(columns={'v1': 'Label', 'v2': 'Mail'}, inplace=True)\n",
    "print(df['Label'].value_counts())\n"
   ]
  },
  {
   "cell_type": "code",
   "execution_count": 193,
   "metadata": {},
   "outputs": [
    {
     "data": {
      "text/html": [
       "<div>\n",
       "<style scoped>\n",
       "    .dataframe tbody tr th:only-of-type {\n",
       "        vertical-align: middle;\n",
       "    }\n",
       "\n",
       "    .dataframe tbody tr th {\n",
       "        vertical-align: top;\n",
       "    }\n",
       "\n",
       "    .dataframe thead th {\n",
       "        text-align: right;\n",
       "    }\n",
       "</style>\n",
       "<table border=\"1\" class=\"dataframe\">\n",
       "  <thead>\n",
       "    <tr style=\"text-align: right;\">\n",
       "      <th></th>\n",
       "      <th>Label</th>\n",
       "      <th>Mail</th>\n",
       "      <th>Msg</th>\n",
       "    </tr>\n",
       "  </thead>\n",
       "  <tbody>\n",
       "    <tr>\n",
       "      <th>0</th>\n",
       "      <td>1</td>\n",
       "      <td>Go until jurong point, crazy.. Available only ...</td>\n",
       "      <td>[go, jurong, point, crazy, available, bugis, n...</td>\n",
       "    </tr>\n",
       "    <tr>\n",
       "      <th>1</th>\n",
       "      <td>1</td>\n",
       "      <td>Ok lar... Joking wif u oni...</td>\n",
       "      <td>[ok, lar, joking, wif, u, oni]</td>\n",
       "    </tr>\n",
       "    <tr>\n",
       "      <th>2</th>\n",
       "      <td>0</td>\n",
       "      <td>Free entry in 2 a wkly comp to win FA Cup fina...</td>\n",
       "      <td>[free, entry, wkly, comp, win, fa, cup, final,...</td>\n",
       "    </tr>\n",
       "    <tr>\n",
       "      <th>3</th>\n",
       "      <td>1</td>\n",
       "      <td>U dun say so early hor... U c already then say...</td>\n",
       "      <td>[u, dun, say, early, hor, u, c, already, say]</td>\n",
       "    </tr>\n",
       "    <tr>\n",
       "      <th>4</th>\n",
       "      <td>1</td>\n",
       "      <td>Nah I don't think he goes to usf, he lives aro...</td>\n",
       "      <td>[nah, dont, think, go, usf, life, around, though]</td>\n",
       "    </tr>\n",
       "  </tbody>\n",
       "</table>\n",
       "</div>"
      ],
      "text/plain": [
       "   Label                                               Mail  \\\n",
       "0      1  Go until jurong point, crazy.. Available only ...   \n",
       "1      1                      Ok lar... Joking wif u oni...   \n",
       "2      0  Free entry in 2 a wkly comp to win FA Cup fina...   \n",
       "3      1  U dun say so early hor... U c already then say...   \n",
       "4      1  Nah I don't think he goes to usf, he lives aro...   \n",
       "\n",
       "                                                 Msg  \n",
       "0  [go, jurong, point, crazy, available, bugis, n...  \n",
       "1                     [ok, lar, joking, wif, u, oni]  \n",
       "2  [free, entry, wkly, comp, win, fa, cup, final,...  \n",
       "3      [u, dun, say, early, hor, u, c, already, say]  \n",
       "4  [nah, dont, think, go, usf, life, around, though]  "
      ]
     },
     "execution_count": 193,
     "metadata": {},
     "output_type": "execute_result"
    }
   ],
   "source": [
    "df['Label'] = df['Label'].map({'ham': 1, 'spam': 0})\n",
    "df['Msg'] = df['Mail'].apply(lambda x: process_text(x))\n",
    "df.head()\n"
   ]
  },
  {
   "cell_type": "code",
   "execution_count": 194,
   "metadata": {},
   "outputs": [],
   "source": [
    "test_df = df.sample(frac=0.20,random_state=42)\n",
    "\n",
    "cond = df['Mail'].isin(test_df['Mail'])\n",
    "#Removing Testing dataset from data\n",
    "df.drop(df[cond].index, inplace = True)"
   ]
  },
  {
   "cell_type": "code",
   "execution_count": 195,
   "metadata": {},
   "outputs": [
    {
     "data": {
      "text/plain": [
       "(4281, 3)"
      ]
     },
     "execution_count": 195,
     "metadata": {},
     "output_type": "execute_result"
    }
   ],
   "source": [
    "df.shape"
   ]
  },
  {
   "cell_type": "code",
   "execution_count": 196,
   "metadata": {},
   "outputs": [
    {
     "data": {
      "text/plain": [
       "(1114, 3)"
      ]
     },
     "execution_count": 196,
     "metadata": {},
     "output_type": "execute_result"
    }
   ],
   "source": [
    "test_df.shape"
   ]
  },
  {
   "cell_type": "code",
   "execution_count": 197,
   "metadata": {},
   "outputs": [
    {
     "name": "stdout",
     "output_type": "stream",
     "text": [
      "Length all words: 38260\n",
      "Length of unique words: 6823\n"
     ]
    }
   ],
   "source": [
    "all_words = list(flatten((list(df['Msg']))))\n",
    "print(\"Length all words: {}\".format(len(all_words)))\n",
    "unique_words = list(set(all_words))\n",
    "print(\"Length of unique words: {}\".format(len(unique_words)))\n"
   ]
  },
  {
   "cell_type": "code",
   "execution_count": 198,
   "metadata": {},
   "outputs": [
    {
     "data": {
      "text/html": [
       "<div>\n",
       "<style scoped>\n",
       "    .dataframe tbody tr th:only-of-type {\n",
       "        vertical-align: middle;\n",
       "    }\n",
       "\n",
       "    .dataframe tbody tr th {\n",
       "        vertical-align: top;\n",
       "    }\n",
       "\n",
       "    .dataframe thead th {\n",
       "        text-align: right;\n",
       "    }\n",
       "</style>\n",
       "<table border=\"1\" class=\"dataframe\">\n",
       "  <thead>\n",
       "    <tr style=\"text-align: right;\">\n",
       "      <th></th>\n",
       "      <th>Label</th>\n",
       "      <th>Mail</th>\n",
       "      <th>Msg</th>\n",
       "    </tr>\n",
       "  </thead>\n",
       "  <tbody>\n",
       "    <tr>\n",
       "      <th>0</th>\n",
       "      <td>1</td>\n",
       "      <td>Go until jurong point, crazy.. Available only ...</td>\n",
       "      <td>[go, jurong, point, crazy, available, bugis, n...</td>\n",
       "    </tr>\n",
       "    <tr>\n",
       "      <th>1</th>\n",
       "      <td>1</td>\n",
       "      <td>Ok lar... Joking wif u oni...</td>\n",
       "      <td>[ok, lar, joking, wif, u, oni]</td>\n",
       "    </tr>\n",
       "    <tr>\n",
       "      <th>3</th>\n",
       "      <td>1</td>\n",
       "      <td>U dun say so early hor... U c already then say...</td>\n",
       "      <td>[u, dun, say, early, hor, u, c, already, say]</td>\n",
       "    </tr>\n",
       "    <tr>\n",
       "      <th>4</th>\n",
       "      <td>1</td>\n",
       "      <td>Nah I don't think he goes to usf, he lives aro...</td>\n",
       "      <td>[nah, dont, think, go, usf, life, around, though]</td>\n",
       "    </tr>\n",
       "    <tr>\n",
       "      <th>6</th>\n",
       "      <td>1</td>\n",
       "      <td>Even my brother is not like to speak with me. ...</td>\n",
       "      <td>[even, brother, like, speak, treat, like, aid,...</td>\n",
       "    </tr>\n",
       "  </tbody>\n",
       "</table>\n",
       "</div>"
      ],
      "text/plain": [
       "   Label                                               Mail  \\\n",
       "0      1  Go until jurong point, crazy.. Available only ...   \n",
       "1      1                      Ok lar... Joking wif u oni...   \n",
       "3      1  U dun say so early hor... U c already then say...   \n",
       "4      1  Nah I don't think he goes to usf, he lives aro...   \n",
       "6      1  Even my brother is not like to speak with me. ...   \n",
       "\n",
       "                                                 Msg  \n",
       "0  [go, jurong, point, crazy, available, bugis, n...  \n",
       "1                     [ok, lar, joking, wif, u, oni]  \n",
       "3      [u, dun, say, early, hor, u, c, already, say]  \n",
       "4  [nah, dont, think, go, usf, life, around, though]  \n",
       "6  [even, brother, like, speak, treat, like, aid,...  "
      ]
     },
     "execution_count": 198,
     "metadata": {},
     "output_type": "execute_result"
    }
   ],
   "source": [
    "ham_df = df[df[\"Label\"] == 1]\n",
    "spam_df = df[df[\"Label\"] == 0]\n",
    "ham_df.head()\n"
   ]
  },
  {
   "cell_type": "code",
   "execution_count": 199,
   "metadata": {},
   "outputs": [
    {
     "data": {
      "text/html": [
       "<div>\n",
       "<style scoped>\n",
       "    .dataframe tbody tr th:only-of-type {\n",
       "        vertical-align: middle;\n",
       "    }\n",
       "\n",
       "    .dataframe tbody tr th {\n",
       "        vertical-align: top;\n",
       "    }\n",
       "\n",
       "    .dataframe thead th {\n",
       "        text-align: right;\n",
       "    }\n",
       "</style>\n",
       "<table border=\"1\" class=\"dataframe\">\n",
       "  <thead>\n",
       "    <tr style=\"text-align: right;\">\n",
       "      <th></th>\n",
       "      <th>Label</th>\n",
       "      <th>Mail</th>\n",
       "      <th>Msg</th>\n",
       "    </tr>\n",
       "  </thead>\n",
       "  <tbody>\n",
       "    <tr>\n",
       "      <th>2</th>\n",
       "      <td>0</td>\n",
       "      <td>Free entry in 2 a wkly comp to win FA Cup fina...</td>\n",
       "      <td>[free, entry, wkly, comp, win, fa, cup, final,...</td>\n",
       "    </tr>\n",
       "    <tr>\n",
       "      <th>5</th>\n",
       "      <td>0</td>\n",
       "      <td>FreeMsg Hey there darling it's been 3 week's n...</td>\n",
       "      <td>[freemsg, hey, darling, week, word, back, id, ...</td>\n",
       "    </tr>\n",
       "    <tr>\n",
       "      <th>19</th>\n",
       "      <td>0</td>\n",
       "      <td>England v Macedonia - dont miss the goals/team...</td>\n",
       "      <td>[england, v, macedonia, dont, miss, goalsteam,...</td>\n",
       "    </tr>\n",
       "    <tr>\n",
       "      <th>34</th>\n",
       "      <td>0</td>\n",
       "      <td>Thanks for your subscription to Ringtone UK yo...</td>\n",
       "      <td>[thanks, subscription, ringtone, uk, mobile, c...</td>\n",
       "    </tr>\n",
       "    <tr>\n",
       "      <th>42</th>\n",
       "      <td>0</td>\n",
       "      <td>07732584351 - Rodger Burns - MSG = We tried to...</td>\n",
       "      <td>[rodger, burn, msg, tried, call, reply, sm, fr...</td>\n",
       "    </tr>\n",
       "  </tbody>\n",
       "</table>\n",
       "</div>"
      ],
      "text/plain": [
       "    Label                                               Mail  \\\n",
       "2       0  Free entry in 2 a wkly comp to win FA Cup fina...   \n",
       "5       0  FreeMsg Hey there darling it's been 3 week's n...   \n",
       "19      0  England v Macedonia - dont miss the goals/team...   \n",
       "34      0  Thanks for your subscription to Ringtone UK yo...   \n",
       "42      0  07732584351 - Rodger Burns - MSG = We tried to...   \n",
       "\n",
       "                                                  Msg  \n",
       "2   [free, entry, wkly, comp, win, fa, cup, final,...  \n",
       "5   [freemsg, hey, darling, week, word, back, id, ...  \n",
       "19  [england, v, macedonia, dont, miss, goalsteam,...  \n",
       "34  [thanks, subscription, ringtone, uk, mobile, c...  \n",
       "42  [rodger, burn, msg, tried, call, reply, sm, fr...  "
      ]
     },
     "execution_count": 199,
     "metadata": {},
     "output_type": "execute_result"
    }
   ],
   "source": [
    "spam_df.head()\n"
   ]
  },
  {
   "cell_type": "code",
   "execution_count": 200,
   "metadata": {},
   "outputs": [
    {
     "name": "stdout",
     "output_type": "stream",
     "text": [
      "Pos: 30007, Neg: 8253\n"
     ]
    }
   ],
   "source": [
    "positive_words = list(flatten((list(ham_df['Msg']))))\n",
    "negative_words = list(flatten((list(spam_df['Msg']))))\n",
    "\n",
    "print('Pos: {}, Neg: {}'.format(len(positive_words),len(negative_words)))"
   ]
  },
  {
   "cell_type": "code",
   "execution_count": 201,
   "metadata": {},
   "outputs": [],
   "source": [
    "word_map={}\n",
    "for word in unique_words:\n",
    "    word_map[word]={'pos':positive_words.count(word),'neg':negative_words.count(word)}"
   ]
  },
  {
   "cell_type": "code",
   "execution_count": 202,
   "metadata": {},
   "outputs": [],
   "source": [
    "data=[]\n",
    "for word in word_map:\n",
    "    data.append([word,word_map[word]['pos'],word_map[word]['neg']])\n",
    "prob_df= pd.DataFrame(data=data,columns=['word','pos','neg'])"
   ]
  },
  {
   "cell_type": "code",
   "execution_count": 203,
   "metadata": {},
   "outputs": [],
   "source": [
    "def laplacian_smoothing(word_freq,total_sum_occurences,unique_words):\n",
    "    smooth= (word_freq+1) / (total_sum_occurences+unique_words)\n",
    "    return smooth\n"
   ]
  },
  {
   "cell_type": "code",
   "execution_count": 204,
   "metadata": {},
   "outputs": [
    {
     "data": {
      "text/html": [
       "<div>\n",
       "<style scoped>\n",
       "    .dataframe tbody tr th:only-of-type {\n",
       "        vertical-align: middle;\n",
       "    }\n",
       "\n",
       "    .dataframe tbody tr th {\n",
       "        vertical-align: top;\n",
       "    }\n",
       "\n",
       "    .dataframe thead th {\n",
       "        text-align: right;\n",
       "    }\n",
       "</style>\n",
       "<table border=\"1\" class=\"dataframe\">\n",
       "  <thead>\n",
       "    <tr style=\"text-align: right;\">\n",
       "      <th></th>\n",
       "      <th>word</th>\n",
       "      <th>pos</th>\n",
       "      <th>neg</th>\n",
       "    </tr>\n",
       "  </thead>\n",
       "  <tbody>\n",
       "    <tr>\n",
       "      <th>0</th>\n",
       "      <td>galcan</td>\n",
       "      <td>1</td>\n",
       "      <td>0</td>\n",
       "    </tr>\n",
       "    <tr>\n",
       "      <th>1</th>\n",
       "      <td>city</td>\n",
       "      <td>1</td>\n",
       "      <td>2</td>\n",
       "    </tr>\n",
       "    <tr>\n",
       "      <th>2</th>\n",
       "      <td>geeee</td>\n",
       "      <td>5</td>\n",
       "      <td>0</td>\n",
       "    </tr>\n",
       "    <tr>\n",
       "      <th>3</th>\n",
       "      <td>meok</td>\n",
       "      <td>1</td>\n",
       "      <td>0</td>\n",
       "    </tr>\n",
       "    <tr>\n",
       "      <th>4</th>\n",
       "      <td>sullivan</td>\n",
       "      <td>0</td>\n",
       "      <td>1</td>\n",
       "    </tr>\n",
       "  </tbody>\n",
       "</table>\n",
       "</div>"
      ],
      "text/plain": [
       "       word  pos  neg\n",
       "0    galcan    1    0\n",
       "1      city    1    2\n",
       "2     geeee    5    0\n",
       "3      meok    1    0\n",
       "4  sullivan    0    1"
      ]
     },
     "execution_count": 204,
     "metadata": {},
     "output_type": "execute_result"
    }
   ],
   "source": [
    "prob_df.head()"
   ]
  },
  {
   "cell_type": "code",
   "execution_count": 205,
   "metadata": {},
   "outputs": [
    {
     "data": {
      "text/html": [
       "<div>\n",
       "<style scoped>\n",
       "    .dataframe tbody tr th:only-of-type {\n",
       "        vertical-align: middle;\n",
       "    }\n",
       "\n",
       "    .dataframe tbody tr th {\n",
       "        vertical-align: top;\n",
       "    }\n",
       "\n",
       "    .dataframe thead th {\n",
       "        text-align: right;\n",
       "    }\n",
       "</style>\n",
       "<table border=\"1\" class=\"dataframe\">\n",
       "  <thead>\n",
       "    <tr style=\"text-align: right;\">\n",
       "      <th></th>\n",
       "      <th>word</th>\n",
       "      <th>pos</th>\n",
       "      <th>neg</th>\n",
       "      <th>laplacian_pos</th>\n",
       "      <th>laplacian_neg</th>\n",
       "    </tr>\n",
       "  </thead>\n",
       "  <tbody>\n",
       "    <tr>\n",
       "      <th>0</th>\n",
       "      <td>galcan</td>\n",
       "      <td>1</td>\n",
       "      <td>0</td>\n",
       "      <td>0.000054</td>\n",
       "      <td>0.000066</td>\n",
       "    </tr>\n",
       "    <tr>\n",
       "      <th>1</th>\n",
       "      <td>city</td>\n",
       "      <td>1</td>\n",
       "      <td>2</td>\n",
       "      <td>0.000054</td>\n",
       "      <td>0.000199</td>\n",
       "    </tr>\n",
       "    <tr>\n",
       "      <th>2</th>\n",
       "      <td>geeee</td>\n",
       "      <td>5</td>\n",
       "      <td>0</td>\n",
       "      <td>0.000163</td>\n",
       "      <td>0.000066</td>\n",
       "    </tr>\n",
       "    <tr>\n",
       "      <th>3</th>\n",
       "      <td>meok</td>\n",
       "      <td>1</td>\n",
       "      <td>0</td>\n",
       "      <td>0.000054</td>\n",
       "      <td>0.000066</td>\n",
       "    </tr>\n",
       "    <tr>\n",
       "      <th>4</th>\n",
       "      <td>sullivan</td>\n",
       "      <td>0</td>\n",
       "      <td>1</td>\n",
       "      <td>0.000027</td>\n",
       "      <td>0.000133</td>\n",
       "    </tr>\n",
       "    <tr>\n",
       "      <th>...</th>\n",
       "      <td>...</td>\n",
       "      <td>...</td>\n",
       "      <td>...</td>\n",
       "      <td>...</td>\n",
       "      <td>...</td>\n",
       "    </tr>\n",
       "    <tr>\n",
       "      <th>6818</th>\n",
       "      <td>alaikkumpride</td>\n",
       "      <td>1</td>\n",
       "      <td>0</td>\n",
       "      <td>0.000054</td>\n",
       "      <td>0.000066</td>\n",
       "    </tr>\n",
       "    <tr>\n",
       "      <th>6819</th>\n",
       "      <td>gbpweek</td>\n",
       "      <td>0</td>\n",
       "      <td>2</td>\n",
       "      <td>0.000027</td>\n",
       "      <td>0.000199</td>\n",
       "    </tr>\n",
       "    <tr>\n",
       "      <th>6820</th>\n",
       "      <td>allo</td>\n",
       "      <td>1</td>\n",
       "      <td>0</td>\n",
       "      <td>0.000054</td>\n",
       "      <td>0.000066</td>\n",
       "    </tr>\n",
       "    <tr>\n",
       "      <th>6821</th>\n",
       "      <td>rebel</td>\n",
       "      <td>1</td>\n",
       "      <td>0</td>\n",
       "      <td>0.000054</td>\n",
       "      <td>0.000066</td>\n",
       "    </tr>\n",
       "    <tr>\n",
       "      <th>6822</th>\n",
       "      <td>jabo</td>\n",
       "      <td>1</td>\n",
       "      <td>0</td>\n",
       "      <td>0.000054</td>\n",
       "      <td>0.000066</td>\n",
       "    </tr>\n",
       "  </tbody>\n",
       "</table>\n",
       "<p>6823 rows × 5 columns</p>\n",
       "</div>"
      ],
      "text/plain": [
       "               word  pos  neg  laplacian_pos  laplacian_neg\n",
       "0            galcan    1    0       0.000054       0.000066\n",
       "1              city    1    2       0.000054       0.000199\n",
       "2             geeee    5    0       0.000163       0.000066\n",
       "3              meok    1    0       0.000054       0.000066\n",
       "4          sullivan    0    1       0.000027       0.000133\n",
       "...             ...  ...  ...            ...            ...\n",
       "6818  alaikkumpride    1    0       0.000054       0.000066\n",
       "6819        gbpweek    0    2       0.000027       0.000199\n",
       "6820           allo    1    0       0.000054       0.000066\n",
       "6821          rebel    1    0       0.000054       0.000066\n",
       "6822           jabo    1    0       0.000054       0.000066\n",
       "\n",
       "[6823 rows x 5 columns]"
      ]
     },
     "execution_count": 205,
     "metadata": {},
     "output_type": "execute_result"
    }
   ],
   "source": [
    "#do laplacian smoothi to avoid 0 probability cases\n",
    "prob_df['laplacian_pos'] = prob_df.apply(lambda x: laplacian_smoothing(x['pos'], len(positive_words),len(unique_words)), axis=1)\n",
    "prob_df['laplacian_neg'] = prob_df.apply(lambda x: laplacian_smoothing(x['neg'], len(negative_words),len(unique_words)), axis=1)\n",
    "prob_df"
   ]
  },
  {
   "cell_type": "code",
   "execution_count": 206,
   "metadata": {},
   "outputs": [],
   "source": [
    "#log likelihood\n",
    "def log_likelihood(a,b):\n",
    "    return np.log(a/b)\n"
   ]
  },
  {
   "cell_type": "code",
   "execution_count": 207,
   "metadata": {},
   "outputs": [],
   "source": [
    "# data_try=[['i',3,3],['am',3,3],['happy',2,1],['because',1,0],['learning',1,1],['nlp',1,1],['sad',1,2],['not',1,2]]\n",
    "# data_dum=pd.DataFrame(data=data_try,columns=['word','pos','neg'])\n",
    "# data_dum\n",
    "# data_dum['laplacian_pos'] = data_dum.apply(lambda x: laplacian_smoothing(x['pos'], data_dum['pos'].sum(),8), axis=1)\n",
    "# data_dum['laplacian_neg'] = data_dum.apply(lambda x: laplacian_smoothing(x['neg'], data_dum['neg'].sum(),8), axis=1)\n",
    "# data_dum['log']= data_dum.apply(lambda x: log_likelihood(x['laplacian_pos'],x['laplacian_neg']),axis=1)\n",
    "# data_dum"
   ]
  },
  {
   "cell_type": "code",
   "execution_count": 208,
   "metadata": {},
   "outputs": [
    {
     "data": {
      "text/html": [
       "<div>\n",
       "<style scoped>\n",
       "    .dataframe tbody tr th:only-of-type {\n",
       "        vertical-align: middle;\n",
       "    }\n",
       "\n",
       "    .dataframe tbody tr th {\n",
       "        vertical-align: top;\n",
       "    }\n",
       "\n",
       "    .dataframe thead th {\n",
       "        text-align: right;\n",
       "    }\n",
       "</style>\n",
       "<table border=\"1\" class=\"dataframe\">\n",
       "  <thead>\n",
       "    <tr style=\"text-align: right;\">\n",
       "      <th></th>\n",
       "      <th>word</th>\n",
       "      <th>pos</th>\n",
       "      <th>neg</th>\n",
       "      <th>laplacian_pos</th>\n",
       "      <th>laplacian_neg</th>\n",
       "      <th>log</th>\n",
       "    </tr>\n",
       "  </thead>\n",
       "  <tbody>\n",
       "    <tr>\n",
       "      <th>0</th>\n",
       "      <td>galcan</td>\n",
       "      <td>1</td>\n",
       "      <td>0</td>\n",
       "      <td>0.000054</td>\n",
       "      <td>0.000066</td>\n",
       "      <td>-0.200061</td>\n",
       "    </tr>\n",
       "    <tr>\n",
       "      <th>1</th>\n",
       "      <td>city</td>\n",
       "      <td>1</td>\n",
       "      <td>2</td>\n",
       "      <td>0.000054</td>\n",
       "      <td>0.000199</td>\n",
       "      <td>-1.298674</td>\n",
       "    </tr>\n",
       "    <tr>\n",
       "      <th>2</th>\n",
       "      <td>geeee</td>\n",
       "      <td>5</td>\n",
       "      <td>0</td>\n",
       "      <td>0.000163</td>\n",
       "      <td>0.000066</td>\n",
       "      <td>0.898551</td>\n",
       "    </tr>\n",
       "    <tr>\n",
       "      <th>3</th>\n",
       "      <td>meok</td>\n",
       "      <td>1</td>\n",
       "      <td>0</td>\n",
       "      <td>0.000054</td>\n",
       "      <td>0.000066</td>\n",
       "      <td>-0.200061</td>\n",
       "    </tr>\n",
       "    <tr>\n",
       "      <th>4</th>\n",
       "      <td>sullivan</td>\n",
       "      <td>0</td>\n",
       "      <td>1</td>\n",
       "      <td>0.000027</td>\n",
       "      <td>0.000133</td>\n",
       "      <td>-1.586356</td>\n",
       "    </tr>\n",
       "    <tr>\n",
       "      <th>...</th>\n",
       "      <td>...</td>\n",
       "      <td>...</td>\n",
       "      <td>...</td>\n",
       "      <td>...</td>\n",
       "      <td>...</td>\n",
       "      <td>...</td>\n",
       "    </tr>\n",
       "    <tr>\n",
       "      <th>6818</th>\n",
       "      <td>alaikkumpride</td>\n",
       "      <td>1</td>\n",
       "      <td>0</td>\n",
       "      <td>0.000054</td>\n",
       "      <td>0.000066</td>\n",
       "      <td>-0.200061</td>\n",
       "    </tr>\n",
       "    <tr>\n",
       "      <th>6819</th>\n",
       "      <td>gbpweek</td>\n",
       "      <td>0</td>\n",
       "      <td>2</td>\n",
       "      <td>0.000027</td>\n",
       "      <td>0.000199</td>\n",
       "      <td>-1.991821</td>\n",
       "    </tr>\n",
       "    <tr>\n",
       "      <th>6820</th>\n",
       "      <td>allo</td>\n",
       "      <td>1</td>\n",
       "      <td>0</td>\n",
       "      <td>0.000054</td>\n",
       "      <td>0.000066</td>\n",
       "      <td>-0.200061</td>\n",
       "    </tr>\n",
       "    <tr>\n",
       "      <th>6821</th>\n",
       "      <td>rebel</td>\n",
       "      <td>1</td>\n",
       "      <td>0</td>\n",
       "      <td>0.000054</td>\n",
       "      <td>0.000066</td>\n",
       "      <td>-0.200061</td>\n",
       "    </tr>\n",
       "    <tr>\n",
       "      <th>6822</th>\n",
       "      <td>jabo</td>\n",
       "      <td>1</td>\n",
       "      <td>0</td>\n",
       "      <td>0.000054</td>\n",
       "      <td>0.000066</td>\n",
       "      <td>-0.200061</td>\n",
       "    </tr>\n",
       "  </tbody>\n",
       "</table>\n",
       "<p>6823 rows × 6 columns</p>\n",
       "</div>"
      ],
      "text/plain": [
       "               word  pos  neg  laplacian_pos  laplacian_neg       log\n",
       "0            galcan    1    0       0.000054       0.000066 -0.200061\n",
       "1              city    1    2       0.000054       0.000199 -1.298674\n",
       "2             geeee    5    0       0.000163       0.000066  0.898551\n",
       "3              meok    1    0       0.000054       0.000066 -0.200061\n",
       "4          sullivan    0    1       0.000027       0.000133 -1.586356\n",
       "...             ...  ...  ...            ...            ...       ...\n",
       "6818  alaikkumpride    1    0       0.000054       0.000066 -0.200061\n",
       "6819        gbpweek    0    2       0.000027       0.000199 -1.991821\n",
       "6820           allo    1    0       0.000054       0.000066 -0.200061\n",
       "6821          rebel    1    0       0.000054       0.000066 -0.200061\n",
       "6822           jabo    1    0       0.000054       0.000066 -0.200061\n",
       "\n",
       "[6823 rows x 6 columns]"
      ]
     },
     "execution_count": 208,
     "metadata": {},
     "output_type": "execute_result"
    }
   ],
   "source": [
    "prob_df['log']= prob_df.apply(lambda x: log_likelihood(x['laplacian_pos'],x['laplacian_neg']),axis=1)\n",
    "prob_df"
   ]
  },
  {
   "cell_type": "code",
   "execution_count": 209,
   "metadata": {},
   "outputs": [
    {
     "data": {
      "text/plain": [
       "1.8856179187991933"
      ]
     },
     "execution_count": 209,
     "metadata": {},
     "output_type": "execute_result"
    }
   ],
   "source": [
    "#total positive tweets by total negative tweets in dataset\n",
    "log_prior= np.log(ham_df.shape[0]/spam_df.shape[0])\n",
    "log_prior\n"
   ]
  },
  {
   "cell_type": "code",
   "execution_count": 210,
   "metadata": {},
   "outputs": [],
   "source": [
    "def predict_spam_ham(words, df, log_prior):\n",
    "    log_sum = 0\n",
    "    for word in words:\n",
    "        col = df.loc[df['word'] == word]\n",
    "        if len(col):\n",
    "            log_sum += float(col['log'])\n",
    "    score = log_sum+log_prior\n",
    "    return 1 if score > 0 else 0\n"
   ]
  },
  {
   "cell_type": "code",
   "execution_count": 211,
   "metadata": {},
   "outputs": [],
   "source": [
    "# text=input('Enter Message: ')\n",
    "# text = process_text(text)\n",
    "# score = predict_spam_ham(text,prob_df,log_prior)\n",
    "# label = \"Ham\" if score > 0 else \"Spam\"\n",
    "# print(\"The given Message is {} \\nscore: {}\".format(label.upper(),score))\n",
    "\n"
   ]
  },
  {
   "cell_type": "code",
   "execution_count": 212,
   "metadata": {},
   "outputs": [
    {
     "name": "stdout",
     "output_type": "stream",
     "text": [
      "Accuracy: 97.49%\n"
     ]
    }
   ],
   "source": [
    "# Testing\n",
    "##predicting the test data set based on lambda given dataset\n",
    "test_df['Predict'] = test_df.apply(\n",
    "    lambda x: predict_spam_ham((x['Msg']), prob_df, log_prior), axis=1)\n",
    "values = test_df.Predict == test_df.Label\n",
    "\n",
    "print('Accuracy: {:.2f}%'.format(sum(values)/len(values)*100))"
   ]
  },
  {
   "cell_type": "code",
   "execution_count": null,
   "metadata": {},
   "outputs": [],
   "source": []
  },
  {
   "cell_type": "code",
   "execution_count": null,
   "metadata": {},
   "outputs": [],
   "source": []
  },
  {
   "cell_type": "code",
   "execution_count": null,
   "metadata": {},
   "outputs": [],
   "source": []
  }
 ],
 "metadata": {
  "interpreter": {
   "hash": "b0fa6594d8f4cbf19f97940f81e996739fb7646882a419484c72d19e05852a7e"
  },
  "kernelspec": {
   "display_name": "Python 3.9.12 64-bit",
   "language": "python",
   "name": "python3"
  },
  "language_info": {
   "codemirror_mode": {
    "name": "ipython",
    "version": 3
   },
   "file_extension": ".py",
   "mimetype": "text/x-python",
   "name": "python",
   "nbconvert_exporter": "python",
   "pygments_lexer": "ipython3",
   "version": "3.9.12"
  },
  "orig_nbformat": 4
 },
 "nbformat": 4,
 "nbformat_minor": 2
}
